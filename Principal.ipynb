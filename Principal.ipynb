{
 "cells": [
  {
   "cell_type": "code",
   "execution_count": 2,
   "metadata": {},
   "outputs": [],
   "source": [
    "import pandas as pd\n",
    "import requests"
   ]
  },
  {
   "cell_type": "code",
   "execution_count": 3,
   "metadata": {},
   "outputs": [],
   "source": [
    "\n",
    "\n",
    "# API Key from Alpha Vantage\n",
    "# R4BTXGGSVD9HT6GU\n",
    "# OZ4VEG5LX8WR3NFK\n",
    "# K2Y37FKIZBOPQ9EQ\n",
    "api_key = 'K2Y37FKIZBOPQ9EQ'\n",
    "\n",
    "# List of company symbols\n",
    "symbols = ['ACN', 'CTSH', 'IBM', 'INFY', 'WIT', 'BAH']\n",
    "\n",
    "# Initialize an empty list to store the data\n",
    "data_list = []\n",
    "\n",
    "# Loop through each symbol and fetch the annual income statements\n",
    "for symbol in symbols:\n",
    "    url_Alpha = f'https://www.alphavantage.co/query?function=INCOME_STATEMENT&symbol={symbol}&apikey={api_key}'\n",
    "    response = requests.get(url_Alpha)\n",
    "    data = response.json()\n",
    "    \n",
    "    # Check if there are annual reports and add their data to the list\n",
    "    if 'annualReports' in data:\n",
    "        for report in data['annualReports']:\n",
    "            report['symbol'] = symbol  # Add the company symbol to the report\n",
    "            data_list.append(report)\n",
    "\n",
    "# Create a DataFrame from the list of data\n",
    "df = pd.DataFrame(data_list)\n",
    "\n"
   ]
  },
  {
   "cell_type": "code",
   "execution_count": 11,
   "metadata": {},
   "outputs": [],
   "source": [
    "# Reorganicing columns in df\n",
    "\n",
    "columns = ['symbol'] + [col for col in df.columns if col != 'symbol']\n",
    "df = df[columns]"
   ]
  },
  {
   "cell_type": "code",
   "execution_count": 12,
   "metadata": {},
   "outputs": [
    {
     "name": "stdout",
     "output_type": "stream",
     "text": [
      "   symbol fiscalDateEnding reportedCurrency  grossProfit totalRevenue costOfRevenue costofGoodsAndServicesSold operatingIncome sellingGeneralAndAdministrative researchAndDevelopment operatingExpenses investmentIncomeNet netInterestIncome interestIncome interestExpense nonInterestIncome otherNonOperatingIncome depreciation depreciationAndAmortization incomeBeforeTax incomeTaxExpense interestAndDebtExpense netIncomeFromContinuingOperations comprehensiveIncomeNetOfTax        ebit      ebitda   netIncome\n",
      "0     ACN       2023-08-31              USD   8356684000  64111745000   55755061000                43380138000      8809889000                     10858572000             1298657000       13673580000           280409000         -47525000      232884000        47525000        -135586000                96559000    620659000                   453205000      9007359000       2135802000               47525000                        7003530000                  7318798000  9054884000  9508089000  6871557000\n",
      "1     ACN       2022-08-31              USD   8920612000  61594305000   52673693000                41892766000      9367181000                     10334358000             1123296000       11904223000            45133000         -47320000       45133000        47320000        -168625000               -72533000    591748000                   446569000      9084376000       2207207000               47320000                        6988960000                  6106324000  9131696000  9578265000  6877169000\n",
      "2     ACN       2021-08-31              USD   7304786000  50533389000   43228603000                34169261000      7621529000                      8742599000             1118320000       10177662000            33365000         -59492000       26127000        59492000          15370000               165714000    512051000                   316743000      7677380000       1770571000               59492000                        5990545000                  6049149000  7736872000  8053615000  5906809000\n",
      "3     ACN       2020-08-31              USD  13976158000  44327039000   30350881000                30350881000      6513644000                      7462514000              870611000        8572789000            69331000         -33071000       36260000        33071000         111623000               224427000    482054000                   239664000      6696857000       1589018000               33071000                        5185313000                  5386579000  6729928000  6969592000  5107839000\n",
      "4     ACN       2019-08-31              USD  13314688000  43215013000   29900325000                29900325000      6305074000                      7009614000              799734000        7986498000            87508000         -22963000       87508000        22963000         112113000              -117822000    440796000                   177150000      6184668000       1405556000               22963000                        4846241000                  4514706000  6207631000  6384781000  4779112000\n",
      "..    ...              ...              ...          ...          ...           ...                        ...             ...                             ...                    ...               ...                 ...               ...            ...             ...               ...                     ...          ...                         ...             ...              ...                    ...                               ...                         ...         ...         ...         ...\n",
      "91    BAH       2016-03-31              USD   4516514000   5335123000     818609000                 2580026000       444584000                       806509000                   None         819709000                None         -70815000       70815000        70815000              None                 5693000     50100000                    12100000       379462000         85368000               70815000                         294094000                   296640000   450277000   462377000   294094000\n",
      "92    BAH       2015-03-31              USD   4439295000   5202907000     763612000                 2593849000       458822000                       752912000                   None         762612000                None         -71832000           None        71832000          -1131000                -1072000     52700000                    10700000       385918000        153349000               72963000                         232569000                   217046000   457750000   468450000   232569000\n",
      "93    BAH       2014-03-31              USD   4636451000   5400497000     764046000                 2716113000       460611000                       742527000                   None         843986000                None         -78030000           None        78030000           -610000                -1794000     57600000                    21519000       380787000        148599000               78640000                         232188000                   239339000   458817000   480336000   232188000\n",
      "94    BAH       2013-03-31              USD   4827371000   5682022000     854651000                 2871240000       446234000                       833986000                   None         926106000                None         -70284000           None        70284000          -6492000                -7639000     59500000                    20665000       368311000        149253000               75670000                         219058000                   213986000   438595000   459260000   219058000\n",
      "95    BAH       2012-03-31              USD   1952222000   5810764000    3858542000                 2934378000       387432000                       903721000                   None         972618000                None         -48078000           None        48078000           -376000                 4520000     58800000                     4783000       343874000        103919000               48078000                         239955000                   236693000   391952000   396735000   239955000\n",
      "\n",
      "[96 rows x 27 columns]\n"
     ]
    }
   ],
   "source": [
    "# Configure pandas to display a large number of columns\n",
    "pd.set_option('display.max_columns', None)  # None means no maximum value\n",
    "pd.set_option('display.expand_frame_repr', False)  # Prevent DataFrame repr from wrapping into multiple lines\n",
    "print(df)"
   ]
  },
  {
   "cell_type": "code",
   "execution_count": 13,
   "metadata": {},
   "outputs": [],
   "source": [
    "# DataFrame filter to obtein rows \"reportedCurrency\" is \"INR\"\n",
    "df_inr = df[df['reportedCurrency'] == 'INR']\n",
    "\n",
    "# unique dates from \"fiscalDateEnding\"\n",
    "Unique_dates = df_inr['fiscalDateEnding'].unique().tolist()\n"
   ]
  },
  {
   "cell_type": "code",
   "execution_count": 25,
   "metadata": {},
   "outputs": [],
   "source": [
    "# API KEY openexchangerates\n",
    "api_key = '87bf2801524b4db68c05bb810726d141'\n",
    "\n",
    "# dates\n",
    "fechas = Unique_dates\n",
    "\n",
    "# Initialize an empty list to store the data\n",
    "exchange_dict = {}\n",
    "\n",
    "# La URL para la consulta de la API\n",
    "for fecha in fechas:\n",
    "    url_Alpha = f'https://openexchangerates.org/api/historical/{fecha}.json?app_id={api_key}&symbols=INR&base=USD'\n",
    "    response = requests.get(url_Alpha)\n",
    "    fx = response.json()\n",
    "    exchange_dict[fecha] = fx['rates']['INR']\n",
    "\n"
   ]
  },
  {
   "cell_type": "code",
   "execution_count": 30,
   "metadata": {},
   "outputs": [],
   "source": [
    "df['exchange_rate'] = None\n",
    "for index, row in df.iterrows():\n",
    "    # Verify condition:\n",
    "    if row['reportedCurrency'] == 'INR' and row['fiscalDateEnding'] in exchange_dict:\n",
    "        # update fx\n",
    "        df.at[index, 'exchange_rate'] = exchange_dict[row['fiscalDateEnding']]\n"
   ]
  },
  {
   "cell_type": "code",
   "execution_count": 31,
   "metadata": {},
   "outputs": [
    {
     "name": "stdout",
     "output_type": "stream",
     "text": [
      "   symbol fiscalDateEnding reportedCurrency  grossProfit totalRevenue costOfRevenue costofGoodsAndServicesSold operatingIncome sellingGeneralAndAdministrative researchAndDevelopment operatingExpenses investmentIncomeNet netInterestIncome interestIncome interestExpense nonInterestIncome otherNonOperatingIncome depreciation depreciationAndAmortization incomeBeforeTax incomeTaxExpense interestAndDebtExpense netIncomeFromContinuingOperations comprehensiveIncomeNetOfTax        ebit      ebitda   netIncome exchange_rate\n",
      "0     ACN       2023-08-31              USD   8356684000  64111745000   55755061000                43380138000      8809889000                     10858572000             1298657000       13673580000           280409000         -47525000      232884000        47525000        -135586000                96559000    620659000                   453205000      9007359000       2135802000               47525000                        7003530000                  7318798000  9054884000  9508089000  6871557000          None\n",
      "1     ACN       2022-08-31              USD   8920612000  61594305000   52673693000                41892766000      9367181000                     10334358000             1123296000       11904223000            45133000         -47320000       45133000        47320000        -168625000               -72533000    591748000                   446569000      9084376000       2207207000               47320000                        6988960000                  6106324000  9131696000  9578265000  6877169000          None\n",
      "2     ACN       2021-08-31              USD   7304786000  50533389000   43228603000                34169261000      7621529000                      8742599000             1118320000       10177662000            33365000         -59492000       26127000        59492000          15370000               165714000    512051000                   316743000      7677380000       1770571000               59492000                        5990545000                  6049149000  7736872000  8053615000  5906809000          None\n",
      "3     ACN       2020-08-31              USD  13976158000  44327039000   30350881000                30350881000      6513644000                      7462514000              870611000        8572789000            69331000         -33071000       36260000        33071000         111623000               224427000    482054000                   239664000      6696857000       1589018000               33071000                        5185313000                  5386579000  6729928000  6969592000  5107839000          None\n",
      "4     ACN       2019-08-31              USD  13314688000  43215013000   29900325000                29900325000      6305074000                      7009614000              799734000        7986498000            87508000         -22963000       87508000        22963000         112113000              -117822000    440796000                   177150000      6184668000       1405556000               22963000                        4846241000                  4514706000  6207631000  6384781000  4779112000          None\n",
      "..    ...              ...              ...          ...          ...           ...                        ...             ...                             ...                    ...               ...                 ...               ...            ...             ...               ...                     ...          ...                         ...             ...              ...                    ...                               ...                         ...         ...         ...         ...           ...\n",
      "91    BAH       2016-03-31              USD   4516514000   5335123000     818609000                 2580026000       444584000                       806509000                   None         819709000                None         -70815000       70815000        70815000              None                 5693000     50100000                    12100000       379462000         85368000               70815000                         294094000                   296640000   450277000   462377000   294094000          None\n",
      "92    BAH       2015-03-31              USD   4439295000   5202907000     763612000                 2593849000       458822000                       752912000                   None         762612000                None         -71832000           None        71832000          -1131000                -1072000     52700000                    10700000       385918000        153349000               72963000                         232569000                   217046000   457750000   468450000   232569000          None\n",
      "93    BAH       2014-03-31              USD   4636451000   5400497000     764046000                 2716113000       460611000                       742527000                   None         843986000                None         -78030000           None        78030000           -610000                -1794000     57600000                    21519000       380787000        148599000               78640000                         232188000                   239339000   458817000   480336000   232188000          None\n",
      "94    BAH       2013-03-31              USD   4827371000   5682022000     854651000                 2871240000       446234000                       833986000                   None         926106000                None         -70284000           None        70284000          -6492000                -7639000     59500000                    20665000       368311000        149253000               75670000                         219058000                   213986000   438595000   459260000   219058000          None\n",
      "95    BAH       2012-03-31              USD   1952222000   5810764000    3858542000                 2934378000       387432000                       903721000                   None         972618000                None         -48078000           None        48078000           -376000                 4520000     58800000                     4783000       343874000        103919000               48078000                         239955000                   236693000   391952000   396735000   239955000          None\n",
      "\n",
      "[96 rows x 28 columns]\n"
     ]
    }
   ],
   "source": [
    "print(df)"
   ]
  },
  {
   "cell_type": "code",
   "execution_count": null,
   "metadata": {},
   "outputs": [],
   "source": []
  },
  {
   "cell_type": "code",
   "execution_count": 32,
   "metadata": {},
   "outputs": [
    {
     "name": "stdout",
     "output_type": "stream",
     "text": [
      "{'2023-03-31': 82.18065, '2022-03-31': 75.909451, '2021-03-31': 73.203743, '2020-03-31': 75.334994, '2019-03-31': 69.37925, '2018-03-31': 65.0798, '2017-03-31': 64.8067, '2016-03-31': 66.24988, '2015-03-31': 62.39897, '2014-03-31': 59.93978, '2013-03-31': 54.335035, '2012-03-31': 50.707392, '2011-03-31': 44.565151, '2010-03-31': 44.91249, '2009-03-31': 50.767667, '2008-03-31': 40.016241, '2007-03-31': 43.348325, '2006-03-31': 44.538871, '2005-03-31': 43.665684, '2004-03-31': 43.409756}\n"
     ]
    }
   ],
   "source": [
    "print(exchange_dict)"
   ]
  },
  {
   "cell_type": "code",
   "execution_count": 10,
   "metadata": {},
   "outputs": [],
   "source": [
    "df.to_excel('consulting_companies.xlsx', index=False)\n"
   ]
  },
  {
   "cell_type": "code",
   "execution_count": null,
   "metadata": {},
   "outputs": [],
   "source": []
  }
 ],
 "metadata": {
  "kernelspec": {
   "display_name": "Python 3",
   "language": "python",
   "name": "python3"
  },
  "language_info": {
   "codemirror_mode": {
    "name": "ipython",
    "version": 3
   },
   "file_extension": ".py",
   "mimetype": "text/x-python",
   "name": "python",
   "nbconvert_exporter": "python",
   "pygments_lexer": "ipython3",
   "version": "3.11.1"
  }
 },
 "nbformat": 4,
 "nbformat_minor": 2
}
