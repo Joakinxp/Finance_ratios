{
 "cells": [
  {
   "cell_type": "code",
   "execution_count": 1,
   "metadata": {},
   "outputs": [],
   "source": [
    "import pandas as pd\n",
    "import requests\n",
    "import matplotlib.pyplot as plt\n",
    "import matplotlib.animation as animation\n",
    "from matplotlib.ticker import FuncFormatter\n",
    "from ipywidgets import Output"
   ]
  },
  {
   "cell_type": "code",
   "execution_count": 2,
   "metadata": {},
   "outputs": [],
   "source": [
    "\n",
    "\n",
    "# API Key from Alpha Vantage\n",
    "# R4BTXGGSVD9HT6GU\n",
    "# OZ4VEG5LX8WR3NFK\n",
    "# K2Y37FKIZBOPQ9EQ\n",
    "api_key = 'K2Y37FKIZBOPQ9EQ'\n",
    "\n",
    "# List of company symbols\n",
    "symbols = ['ACN', 'CTSH', 'IBM', 'INFY', 'WIT', 'BAH']\n",
    "\n",
    "# Initialize an empty list to store the data\n",
    "data_list = []\n",
    "\n",
    "# Loop through each symbol and fetch the annual income statements\n",
    "for symbol in symbols:\n",
    "    url_Alpha = f'https://www.alphavantage.co/query?function=INCOME_STATEMENT&symbol={symbol}&apikey={api_key}'\n",
    "    response = requests.get(url_Alpha)\n",
    "    data = response.json()\n",
    "    \n",
    "    # Check if there are annual reports and add their data to the list\n",
    "    if 'annualReports' in data:\n",
    "        for report in data['annualReports']:\n",
    "            report['symbol'] = symbol  # Add the company symbol to the report\n",
    "            data_list.append(report)\n",
    "\n",
    "# Create a DataFrame from the list of data\n",
    "df = pd.DataFrame(data_list)\n",
    "\n"
   ]
  },
  {
   "cell_type": "code",
   "execution_count": 3,
   "metadata": {},
   "outputs": [],
   "source": [
    "# Reorganicing columns in df\n",
    "\n",
    "columns = ['symbol'] + [col for col in df.columns if col != 'symbol']\n",
    "df = df[columns]"
   ]
  },
  {
   "cell_type": "code",
   "execution_count": 4,
   "metadata": {},
   "outputs": [
    {
     "name": "stdout",
     "output_type": "stream",
     "text": [
      "   symbol fiscalDateEnding reportedCurrency  grossProfit totalRevenue costOfRevenue costofGoodsAndServicesSold operatingIncome sellingGeneralAndAdministrative researchAndDevelopment operatingExpenses investmentIncomeNet netInterestIncome interestIncome interestExpense nonInterestIncome otherNonOperatingIncome depreciation depreciationAndAmortization incomeBeforeTax incomeTaxExpense interestAndDebtExpense netIncomeFromContinuingOperations comprehensiveIncomeNetOfTax        ebit      ebitda   netIncome\n",
      "0     ACN       2023-08-31              USD   8356684000  64111745000   55755061000                43380138000      8809889000                     10858572000             1298657000       13673580000           280409000         -47525000      232884000        47525000        -135586000                96559000    620659000                   453205000      9007359000       2135802000               47525000                        7003530000                  7318798000  9054884000  9508089000  6871557000\n",
      "1     ACN       2022-08-31              USD   8920612000  61594305000   52673693000                41892766000      9367181000                     10334358000             1123296000       11904223000            45133000         -47320000       45133000        47320000        -168625000               -72533000    591748000                   446569000      9084376000       2207207000               47320000                        6988960000                  6106324000  9131696000  9578265000  6877169000\n",
      "2     ACN       2021-08-31              USD   7304786000  50533389000   43228603000                34169261000      7621529000                      8742599000             1118320000       10177662000            33365000         -59492000       26127000        59492000          15370000               165714000    512051000                   316743000      7677380000       1770571000               59492000                        5990545000                  6049149000  7736872000  8053615000  5906809000\n",
      "3     ACN       2020-08-31              USD  13976158000  44327039000   30350881000                30350881000      6513644000                      7462514000              870611000        8572789000            69331000         -33071000       36260000        33071000         111623000               224427000    482054000                   239664000      6696857000       1589018000               33071000                        5185313000                  5386579000  6729928000  6969592000  5107839000\n",
      "4     ACN       2019-08-31              USD  13314688000  43215013000   29900325000                29900325000      6305074000                      7009614000              799734000        7986498000            87508000         -22963000       87508000        22963000         112113000              -117822000    440796000                   177150000      6184668000       1405556000               22963000                        4846241000                  4514706000  6207631000  6384781000  4779112000\n",
      "..    ...              ...              ...          ...          ...           ...                        ...             ...                             ...                    ...               ...                 ...               ...            ...             ...               ...                     ...          ...                         ...             ...              ...                    ...                               ...                         ...         ...         ...         ...\n",
      "91    BAH       2016-03-31              USD   4516514000   5335123000     818609000                 2580026000       444584000                       806509000                   None         819709000                None         -70815000       70815000        70815000              None                 5693000     50100000                    12100000       379462000         85368000               70815000                         294094000                   296640000   450277000   462377000   294094000\n",
      "92    BAH       2015-03-31              USD   4439295000   5202907000     763612000                 2593849000       458822000                       752912000                   None         762612000                None         -71832000           None        71832000          -1131000                -1072000     52700000                    10700000       385918000        153349000               72963000                         232569000                   217046000   457750000   468450000   232569000\n",
      "93    BAH       2014-03-31              USD   4636451000   5400497000     764046000                 2716113000       460611000                       742527000                   None         843986000                None         -78030000           None        78030000           -610000                -1794000     57600000                    21519000       380787000        148599000               78640000                         232188000                   239339000   458817000   480336000   232188000\n",
      "94    BAH       2013-03-31              USD   4827371000   5682022000     854651000                 2871240000       446234000                       833986000                   None         926106000                None         -70284000           None        70284000          -6492000                -7639000     59500000                    20665000       368311000        149253000               75670000                         219058000                   213986000   438595000   459260000   219058000\n",
      "95    BAH       2012-03-31              USD   1952222000   5810764000    3858542000                 2934378000       387432000                       903721000                   None         972618000                None         -48078000           None        48078000           -376000                 4520000     58800000                     4783000       343874000        103919000               48078000                         239955000                   236693000   391952000   396735000   239955000\n",
      "\n",
      "[96 rows x 27 columns]\n"
     ]
    }
   ],
   "source": [
    "# Configure pandas to display a large number of columns\n",
    "pd.set_option('display.max_columns', None)  # None means no maximum value\n",
    "pd.set_option('display.expand_frame_repr', False)  # Prevent DataFrame repr from wrapping into multiple lines\n",
    "print(df)"
   ]
  },
  {
   "cell_type": "code",
   "execution_count": 5,
   "metadata": {},
   "outputs": [],
   "source": [
    "# DataFrame filter to obtein rows \"reportedCurrency\" is \"INR\"\n",
    "df_inr = df[df['reportedCurrency'] == 'INR']\n",
    "\n",
    "# unique dates from \"fiscalDateEnding\"\n",
    "Unique_dates = df_inr['fiscalDateEnding'].unique().tolist()\n"
   ]
  },
  {
   "cell_type": "code",
   "execution_count": 6,
   "metadata": {},
   "outputs": [],
   "source": [
    "# API KEY openexchangerates\n",
    "api_key = '87bf2801524b4db68c05bb810726d141'\n",
    "\n",
    "# dates\n",
    "fechas = Unique_dates\n",
    "\n",
    "# Initialize an empty list to store the data\n",
    "exchange_dict = {}\n",
    "\n",
    "# API´s URL \n",
    "for fecha in fechas:\n",
    "    url_Alpha = f'https://openexchangerates.org/api/historical/{fecha}.json?app_id={api_key}&symbols=INR&base=USD'\n",
    "    response = requests.get(url_Alpha)\n",
    "    fx = response.json()\n",
    "    exchange_dict[fecha] = fx['rates']['INR']\n",
    "\n"
   ]
  },
  {
   "cell_type": "code",
   "execution_count": 7,
   "metadata": {},
   "outputs": [],
   "source": [
    "# Creating a df with exchange rate info\n",
    "\n",
    "df['exchange_rate'] = None\n",
    "for index, row in df.iterrows():\n",
    "    # Verify condition:\n",
    "    if row['reportedCurrency'] == 'INR' and row['fiscalDateEnding'] in exchange_dict:\n",
    "        # update fx\n",
    "        df.at[index, 'exchange_rate'] = exchange_dict[row['fiscalDateEnding']]\n"
   ]
  },
  {
   "cell_type": "code",
   "execution_count": 8,
   "metadata": {},
   "outputs": [],
   "source": [
    "# Columns tranformation\n",
    "\n",
    "columns_to_convert = df.columns.to_list()\n",
    "columns_to_convert.remove('symbol')\n",
    "columns_to_convert.remove('fiscalDateEnding')\n",
    "columns_to_convert.remove('reportedCurrency')\n",
    "\n",
    "for columna in columns_to_convert:\n",
    "    df[columna] = pd.to_numeric(df[columna], errors='coerce')"
   ]
  },
  {
   "cell_type": "code",
   "execution_count": 9,
   "metadata": {},
   "outputs": [],
   "source": [
    "# Export data to excel to check if everything is ok \n",
    "\n",
    "df.to_excel('consulting_companies.xlsx', index=False)"
   ]
  },
  {
   "cell_type": "code",
   "execution_count": null,
   "metadata": {},
   "outputs": [],
   "source": [
    "# Removes 'exchange_rate' from the list of columns that we plan to convert.\n",
    "columns_to_convert.remove('exchange_rate')\n"
   ]
  },
  {
   "cell_type": "code",
   "execution_count": null,
   "metadata": {},
   "outputs": [],
   "source": [
    "# Copy the original DataFrame to keep the conversion separate.\n",
    "df_USD = df\n",
    "\n",
    "# Create a mask for rows with 'INR' as the reported currency.\n",
    "mask = df_USD['reportedCurrency']=='INR'\n",
    "\n",
    "# Convert selected columns from INR to USD for these rows.\n",
    "df_USD.loc[mask, columns_to_convert] = df_USD.loc[mask, columns_to_convert].div(df['exchange_rate'], axis=0)\n"
   ]
  },
  {
   "cell_type": "code",
   "execution_count": null,
   "metadata": {},
   "outputs": [],
   "source": [
    "# Update the 'reportedCurrency' column to 'USD' where it was 'INR'.\n",
    "df_USD.loc[df_USD['reportedCurrency'] == 'INR', 'reportedCurrency'] = 'USD'\n"
   ]
  },
  {
   "cell_type": "code",
   "execution_count": null,
   "metadata": {},
   "outputs": [],
   "source": [
    "# Adjust pandas display settings for better DataFrame visualization.\n",
    "pd.set_option('display.max_columns', None)  \n",
    "pd.set_option('display.expand_frame_repr', None)  \n",
    "pd.set_option('display.float_format', lambda x: '%.2f' % x)\n"
   ]
  },
  {
   "cell_type": "code",
   "execution_count": null,
   "metadata": {},
   "outputs": [],
   "source": [
    "# Display the first 100 rows of the DataFrame.\n",
    "df_USD.head(100)\n"
   ]
  },
  {
   "cell_type": "code",
   "execution_count": null,
   "metadata": {},
   "outputs": [],
   "source": [
    "# Export the DataFrame to an Excel file for external use.\n",
    "df_USD.to_excel('consulting_companies_USD.xlsx', index=False)\n"
   ]
  },
  {
   "cell_type": "code",
   "execution_count": 20,
   "metadata": {},
   "outputs": [
    {
     "name": "stdout",
     "output_type": "stream",
     "text": [
      "   symbol     fiscalDateEnding reportedCurrency    grossProfit   totalRevenue  costOfRevenue  costofGoodsAndServicesSold  operatingIncome  sellingGeneralAndAdministrative  researchAndDevelopment  operatingExpenses  investmentIncomeNet  netInterestIncome  interestIncome  interestExpense  nonInterestIncome  otherNonOperatingIncome  depreciation  depreciationAndAmortization  incomeBeforeTax  incomeTaxExpense  interestAndDebtExpense  netIncomeFromContinuingOperations  comprehensiveIncomeNetOfTax          ebit        ebitda     netIncome  exchange_rate\n",
      "13    ACN  2010-08-31 00:00:00              USD  7250747000.00 23094078000.00 15843331000.00              15843331000.00    2914845000.00                    4326364000.00            376985000.00      4724741000.00          29931000.00       -14677000.00             NaN      14677000.00       -30741000.00             -15724000.00  269072000.00                 474688000.00    2634566000.00      853910000.00             14677000.00                      2060459000.00                3661527000.00 2649243000.00 3429002000.00 1780656000.00            NaN\n",
      "12    ACN  2011-08-31 00:00:00              USD  8386719000.00 27352914000.00 18966195000.00              18966195000.00    3470457000.00                    4914742000.00            481970000.00      5432964000.00          41083000.00       -15000000.00             NaN      15000000.00       -32503000.00              15482000.00  297549000.00                 513256000.00    3236459000.00      958782000.00             15000000.00                      2553240000.00                2529589000.00 3251459000.00 4026316000.00 2277677000.00            NaN\n",
      "11    ACN  2012-08-31 00:00:00              USD  8987701000.00 29777985000.00 20790284000.00              20790284000.00    3871548000.00                    5114462000.00            559611000.00      5689134000.00          42550000.00       -15061000.00             NaN      15061000.00        33171000.00               5137000.00  317992000.00                 593545000.00    3632751000.00     1079241000.00             15061000.00                      2824933000.00                2009742000.00 3647812000.00 4509334000.00 2553510000.00            NaN\n",
      "10    ACN  2013-08-31 00:00:00              USD  9384175000.00 30394285000.00 21010110000.00              21010110000.00    4338680000.00                    5317537000.00            715094000.00      6046666000.00          32893000.00       -14035000.00             NaN      14035000.00        31663000.00             -18244000.00  324997000.00                  52876000.00    4066653000.00      784775000.00             14035000.00                      3554519000.00                2907280000.00 4080688000.00 4133564000.00 3281878000.00            NaN\n",
      "9     ACN  2014-08-31 00:00:00              USD  9684466000.00 31874678000.00 22190212000.00              22190212000.00    4300512000.00                    5401969000.00            639513000.00      6116714000.00          30370000.00       -17621000.00             NaN      17621000.00       107928000.00             -15560000.00  326910000.00                  75232000.00    4063241000.00     1121743000.00             17621000.00                      3175958000.00                3122296000.00 4080862000.00 4156094000.00 2941498000.00            NaN\n",
      "8     ACN  2015-08-31 00:00:00              USD  9809239000.00 32914424000.00 23105185000.00              23105185000.00    4435869000.00                    5308988000.00            625541000.00      6034162000.00          33991000.00       -14578000.00     19413000.00      14578000.00      -230490000.00             -44752000.00  311305000.00                  99633000.00    4190322000.00     1136741000.00             14578000.00                      3273789000.00                2513557000.00 4204900000.00 4304533000.00 3053581000.00            NaN\n",
      "7     ACN  2016-08-31 00:00:00              USD 10277427000.00 34797661000.00 24520234000.00              24520234000.00    4810445000.00                    5466982000.00            643407000.00      5379448000.00          30484000.00       -16258000.00     30484000.00      16258000.00       790933000.00             -69922000.00  327736000.00                 117882000.00    5365861000.00     1253969000.00             16258000.00                      4349603000.00                3862144000.00 5382119000.00 5500001000.00 4111892000.00            NaN\n",
      "6     ACN  2017-08-31 00:00:00              USD 11071492000.00 36176841000.00 25105349000.00              25734986000.00    5191402000.00                    5888090000.00            704317000.00      6742076000.00          37940000.00       -15545000.00     37940000.00      15545000.00        95488000.00             -87720000.00  362817000.00                 149417000.00    4426249000.00      981100000.00             15545000.00                      3634932000.00                4012085000.00 4441794000.00 4591211000.00 3445149000.00            NaN\n",
      "5     ACN  2018-08-31 00:00:00              USD 12493364000.00 40992534000.00 28499170000.00              29160515000.00    5898779000.00                    6601872000.00            790779000.00      7562838000.00          56337000.00       -19539000.00     56337000.00      19539000.00       142295000.00            -127484000.00  423471000.00                 170187000.00    5653406000.00     1593499000.00             19539000.00                      4214594000.00                3578520000.00 5672945000.00 5843132000.00 4059907000.00            NaN\n",
      "4     ACN  2019-08-31 00:00:00              USD 13314688000.00 43215013000.00 29900325000.00              29900325000.00    6305074000.00                    7009614000.00            799734000.00      7986498000.00          87508000.00       -22963000.00     87508000.00      22963000.00       112113000.00            -117822000.00  440796000.00                 177150000.00    6184668000.00     1405556000.00             22963000.00                      4846241000.00                4514706000.00 6207631000.00 6384781000.00 4779112000.00            NaN\n",
      "3     ACN  2020-08-31 00:00:00              USD 13976158000.00 44327039000.00 30350881000.00              30350881000.00    6513644000.00                    7462514000.00            870611000.00      8572789000.00          69331000.00       -33071000.00     36260000.00      33071000.00       111623000.00             224427000.00  482054000.00                 239664000.00    6696857000.00     1589018000.00             33071000.00                      5185313000.00                5386579000.00 6729928000.00 6969592000.00 5107839000.00            NaN\n",
      "2     ACN  2021-08-31 00:00:00              USD  7304786000.00 50533389000.00 43228603000.00              34169261000.00    7621529000.00                    8742599000.00           1118320000.00     10177662000.00          33365000.00       -59492000.00     26127000.00      59492000.00        15370000.00             165714000.00  512051000.00                 316743000.00    7677380000.00     1770571000.00             59492000.00                      5990545000.00                6049149000.00 7736872000.00 8053615000.00 5906809000.00            NaN\n",
      "1     ACN  2022-08-31 00:00:00              USD  8920612000.00 61594305000.00 52673693000.00              41892766000.00    9367181000.00                   10334358000.00           1123296000.00     11904223000.00          45133000.00       -47320000.00     45133000.00      47320000.00      -168625000.00             -72533000.00  591748000.00                 446569000.00    9084376000.00     2207207000.00             47320000.00                      6988960000.00                6106324000.00 9131696000.00 9578265000.00 6877169000.00            NaN\n",
      "0     ACN  2023-08-31 00:00:00              USD  8356684000.00 64111745000.00 55755061000.00              43380138000.00    8809889000.00                   10858572000.00           1298657000.00     13673580000.00         280409000.00       -47525000.00    232884000.00      47525000.00      -135586000.00              96559000.00  620659000.00                 453205000.00    9007359000.00     2135802000.00             47525000.00                      7003530000.00                7318798000.00 9054884000.00 9508089000.00 6871557000.00            NaN\n"
     ]
    }
   ],
   "source": [
    "# Filter, convert, and sort data for a specific company ('ACN').\n",
    "df_acn = df_USD[df_USD['symbol'] == 'ACN']\n",
    "df_USD.loc[df_USD['symbol'] == 'ACN', 'fiscalDateEnding'] = pd.to_datetime(df_USD[df_USD['symbol'] == 'ACN']['fiscalDateEnding'])\n",
    "df_acn = df_USD[df_USD['symbol'] == 'ACN'].sort_values(by='fiscalDateEnding')\n",
    "\n",
    "# Print the final DataFrame for the company.\n",
    "print(df_acn)\n"
   ]
  }
 ],
 "metadata": {
  "kernelspec": {
   "display_name": "Python 3",
   "language": "python",
   "name": "python3"
  },
  "language_info": {
   "codemirror_mode": {
    "name": "ipython",
    "version": 3
   },
   "file_extension": ".py",
   "mimetype": "text/x-python",
   "name": "python",
   "nbconvert_exporter": "python",
   "pygments_lexer": "ipython3",
   "version": "3.11.1"
  }
 },
 "nbformat": 4,
 "nbformat_minor": 2
}
